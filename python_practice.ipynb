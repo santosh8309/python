{
 "cells": [
  {
   "cell_type": "markdown",
   "metadata": {},
   "source": [
    "# Calculating sum of multiples of 3 in a range from 1-50"
   ]
  },
  {
   "cell_type": "code",
   "execution_count": 2,
   "metadata": {},
   "outputs": [],
   "source": [
    "array = list(range(1,50))\n",
    "total =0\n",
    "total1 =0"
   ]
  },
  {
   "cell_type": "code",
   "execution_count": 3,
   "metadata": {},
   "outputs": [
    {
     "name": "stdout",
     "output_type": "stream",
     "text": [
      "408 817\n"
     ]
    }
   ],
   "source": [
    "for element in array:\n",
    "    if element % 3 == 0:\n",
    "        total+=element\n",
    "    else:\n",
    "        total1+=element\n",
    "        \n",
    "print(total, total1)  "
   ]
  },
  {
   "cell_type": "markdown",
   "metadata": {},
   "source": [
    "# Positional arguments and keyword arguments"
   ]
  },
  {
   "cell_type": "code",
   "execution_count": 25,
   "metadata": {},
   "outputs": [
    {
     "name": "stdout",
     "output_type": "stream",
     "text": [
      "('Statistics', 'Mathematics') {'Name': 'Santosh', 'Age': 23, 'ID': 201451063}\n"
     ]
    }
   ],
   "source": [
    "Courses = ['Statistics', 'Mathematics']\n",
    "Name = {'Name': 'Santosh',\n",
    "        'Age': 23,\n",
    "        'ID': 201451063}\n",
    "\n",
    "def test_fun(*args, **kwargs):\n",
    "    print(args, kwargs)\n",
    "\n",
    "\n",
    "test_fun(*Courses, **Name)\n"
   ]
  },
  {
   "cell_type": "markdown",
   "metadata": {},
   "source": [
    "# Decorators"
   ]
  },
  {
   "cell_type": "code",
   "execution_count": 36,
   "metadata": {},
   "outputs": [
    {
     "name": "stdout",
     "output_type": "stream",
     "text": [
      "Contents of display function\n",
      "************************************************************************\n",
      "This is in Display function!\n",
      "\n",
      "Contents of display_info function\n",
      "************************************************************************\n",
      "display_info ran with ['Statistics', 'Mathematics'],{'Name': 'Santosh', 'Age': 23, 'ID': 201451063}\n"
     ]
    }
   ],
   "source": [
    "def decorator_func(original_fun):\n",
    "    def wrapper_fun(*args, **kwargs):\n",
    "        print('Contents of {} function'.format(original_fun.__name__))\n",
    "        print('************************************************************************')\n",
    "        return original_fun()\n",
    "    return wrapper_fun\n",
    "\n",
    "@decorator_func\n",
    "def display():\n",
    "    print('This is in Display function!\\n')\n",
    "    \n",
    "@decorator_func   \n",
    "def display_info(*Courses, **Name):\n",
    "    Courses = ['Statistics', 'Mathematics']\n",
    "    Name = {'Name': 'Santosh',\n",
    "            'Age': 23,\n",
    "            'ID': 201451063}\n",
    "    print('display_info ran with {},{}'.format(Courses, Name))\n",
    "\n",
    "display()\n",
    "display_info()\n"
   ]
  },
  {
   "cell_type": "markdown",
   "metadata": {},
   "source": [
    "# Decorator class"
   ]
  },
  {
   "cell_type": "code",
   "execution_count": 1,
   "metadata": {},
   "outputs": [
    {
     "name": "stdout",
     "output_type": "stream",
     "text": [
      "the contents of display function\n",
      "**************************************************************\n",
      "I'm from the display function!\n",
      "\n",
      "\n",
      "\n",
      "the contents of display_info function\n",
      "**************************************************************\n",
      "display info ran with ['Statistics', 'Mathematics'],{'Name': 'Santosh', 'Age': 23, 'ID': 201451063}\n"
     ]
    }
   ],
   "source": [
    "class decorator_class(object):\n",
    "    \n",
    "    def __init__(self, original_fun):\n",
    "        self.original_fun = original_fun\n",
    "        \n",
    "    def __call__(self, *args, **kwargs):\n",
    "        print('the contents of {} function'.format(self.original_fun.__name__))\n",
    "        print('**************************************************************')\n",
    "        return self.original_fun(*args, **kwargs)\n",
    "        \n",
    "\n",
    "@decorator_class\n",
    "def display_info(*courses, **name):\n",
    "    courses = ['Statistics', 'Mathematics']\n",
    "    name = {'Name': 'Santosh',\n",
    "            'Age': 23,\n",
    "            'ID': 201451063}\n",
    "    print('display info ran with {},{}'.format(courses, name))\n",
    "\n",
    "\n",
    "@decorator_class\n",
    "def display():\n",
    "    print(\"I'm from the display function!\\n\")\n",
    "    print('\\n')\n",
    "  \n",
    "display()\n",
    "display_info()"
   ]
  },
  {
   "cell_type": "markdown",
   "metadata": {},
   "source": [
    "# __main__"
   ]
  },
  {
   "cell_type": "code",
   "execution_count": 1,
   "metadata": {},
   "outputs": [
    {
     "data": {
      "text/plain": [
       "'This is __main__'"
      ]
     },
     "execution_count": 1,
     "metadata": {},
     "output_type": "execute_result"
    }
   ],
   "source": [
    "def main():\n",
    "    if __name__ == '__main__':\n",
    "        return 'This is {}'.format(__name__)\n",
    "main()\n"
   ]
  },
  {
   "cell_type": "code",
   "execution_count": 18,
   "metadata": {},
   "outputs": [
    {
     "name": "stdout",
     "output_type": "stream",
     "text": [
      "man_1 full_name --> Santosh Nenavath\n",
      "man_1 email --> SantoshNenavath@santoshobhana.com\n",
      "employee added!\n",
      "\n",
      "-->  smith David\n",
      "Employee('Santosh','Nenavath',90000)\n",
      "Santosh Nenavath-SantoshNenavath@santoshobhana.com\n",
      "180000\n"
     ]
    }
   ],
   "source": [
    "\n",
    "class Employee:\n",
    "    raise_amount = 1.05\n",
    "    \n",
    "    def __init__(self, first, last, stipend):\n",
    "        \n",
    "        self.first = first\n",
    "        self.last = last\n",
    "        self.stipend = stipend\n",
    "        self.email = self.first + self.last + '@santoshobhana.com'\n",
    "\n",
    "    def full_name(self):\n",
    "        return self.first + ' ' +self.last\n",
    "    \n",
    "    \n",
    "    def raise_stipend(self):\n",
    "        self.stipend = self.stipend * self.raise_amount\n",
    "        return self.stipend\n",
    "    \n",
    "    \n",
    "    @classmethod\n",
    "    def from_string(cls, string):\n",
    "        first, last, stipend = string.split('-')\n",
    "        return cls(first, last, stipend)\n",
    "    \n",
    "    \n",
    "    def __repr__(self):\n",
    "        return \"Employee('{}','{}',{})\".format(self.first, self.last, self.stipend)\n",
    "    \n",
    "    \n",
    "    def __str__(self):\n",
    "        return '{}-{}'.format(self.full_name(),self.email)\n",
    "    \n",
    "    \n",
    "    def __add__(self, other):\n",
    "        return self.stipend + other.stipend\n",
    "    \n",
    "    \n",
    "    \n",
    "class Developer(Employee):\n",
    "    def __init__(self, first, last, stipend, prog_language):\n",
    "        super().__init__(first,last, stipend)\n",
    "        self.prog_language = prog_language\n",
    "        \n",
    "        \n",
    "class Manager(Employee):\n",
    "    def __init__(self, first, last, stipend, employees = None):\n",
    "        super().__init__(first, last, stipend)\n",
    "        if employees is None:\n",
    "            self.employees = []\n",
    "        else:\n",
    "            self.employees = employees\n",
    "    \n",
    "    \n",
    "    def add_employee(self, emp):\n",
    "        if emp not in self.employees:\n",
    "            self.employees.append(emp)\n",
    "            print('employee added!\\n')\n",
    "        else:\n",
    "            print('This employee is already there in the Employee list!\\n')\n",
    "            \n",
    "        \n",
    "    def remove_empployee(self, emp):\n",
    "        if emp in self.employees:\n",
    "            self.employees.remove(emp)\n",
    "        else:\n",
    "            print('This employee is not present in Employee list.\\n')\n",
    "    \n",
    "    \n",
    "    def print_employee(self):\n",
    "        for emp in self.employees:\n",
    "            print('--> ',emp.full_name())\n",
    "            \n",
    "        \n",
    "    \n",
    "emp1 = Employee('Santosh','Nenavath', 90000)\n",
    "emp2 = Employee('Shobhana','Bhukya', 90000)\n",
    "\n",
    "emp_string = 'Maruthi-Nenavath-10000'\n",
    "\n",
    "dev_1 = Developer('john', 'Doe', 50000, 'Python2')\n",
    "dev_2 = Developer('smith', 'David', 60000, 'Java')\n",
    "\n",
    "man_1 = Manager('Santosh', 'Nenavath', 90000, [dev_1])\n",
    "\n",
    "\n",
    "new_emp1 = Employee.from_string(emp_string)\n",
    "\n",
    "#print('emp2_Email: {}'.format(emp2.email))\n",
    "#print('emp2 full_name: {}'.format(Employee.full_name(emp2)))\n",
    "print('man_1 full_name --> {}'.format(man_1.full_name()))\n",
    "print('man_1 email --> {}'.format(man_1.email))\n",
    "man_1.add_employee(dev_2)\n",
    "#print(help(Manager))\n",
    "\n",
    "man_1.remove_empployee(dev_1)\n",
    "man_1.print_employee()\n",
    "#print('dev_1 full_name --> {}'.format(dev_1.full_name()))\n",
    "#print('dev_1_prog_language --> {}'.format(dev_1.prog_language))\n",
    "#print('dev_1 raised_stipend --> {}'.format(dev_1.raise_stipend()))\n",
    "#print('emp2 stipend: {}'.format(emp2.stipend))\n",
    "#print('raise_amount: {}'.format(Employee.raise_amount))\n",
    "#print('emp2 raised_stipend: {}'.format(Employee.raise_stipend(emp2)))\n",
    "#print('new_emp: {}'.format(new_emp1.email))\n",
    "#print(isinstance(man_1, Manager)\n",
    "    \n",
    "print(emp1.__repr__())\n",
    "print(emp1.__str__())\n",
    "print(emp1+emp2)"
   ]
  },
  {
   "cell_type": "code",
   "execution_count": null,
   "metadata": {},
   "outputs": [],
   "source": []
  },
  {
   "cell_type": "code",
   "execution_count": null,
   "metadata": {},
   "outputs": [],
   "source": []
  }
 ],
 "metadata": {
  "kernelspec": {
   "display_name": "Python 3",
   "language": "python",
   "name": "python3"
  },
  "language_info": {
   "codemirror_mode": {
    "name": "ipython",
    "version": 3
   },
   "file_extension": ".py",
   "mimetype": "text/x-python",
   "name": "python",
   "nbconvert_exporter": "python",
   "pygments_lexer": "ipython3",
   "version": "3.6.4"
  }
 },
 "nbformat": 4,
 "nbformat_minor": 1
}
